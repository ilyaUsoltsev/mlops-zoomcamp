{
 "cells": [
  {
   "cell_type": "code",
   "execution_count": 2,
   "id": "aa628fe9",
   "metadata": {},
   "outputs": [],
   "source": [
    "import pandas as pd\n",
    "import seaborn as sns\n",
    "import matplotlib.pyplot as plt\n",
    "from sklearn.feature_extraction import DictVectorizer\n",
    "from sklearn.linear_model import LinearRegression, Lasso\n",
    "from sklearn.metrics import mean_squared_error\n"
   ]
  },
  {
   "cell_type": "code",
   "execution_count": 3,
   "id": "fbbca71e",
   "metadata": {},
   "outputs": [],
   "source": [
    "!pip install pyarrow -q"
   ]
  },
  {
   "cell_type": "code",
   "execution_count": 4,
   "id": "f7335df7",
   "metadata": {},
   "outputs": [],
   "source": [
    "categorical = ['PULocationID', 'DOLocationID']\n",
    "numerical = []\n",
    "def read_dataframe(filename):\n",
    "    df = pd.read_parquet(filename)\n",
    "    print('shape:', df.shape)\n",
    "    df['duration'] = (df['tpep_dropoff_datetime'] - df['tpep_pickup_datetime']).dt.total_seconds() / 60\n",
    "    print('duration std before filtering outliers', df['duration'].std())\n",
    "    count_before_filter = len(df)\n",
    "    df = df[(df['duration'] >= 1) & (df['duration'] <= 60)]\n",
    "    count_after_filter = len(df)\n",
    "    print('% left after filtering by time', count_after_filter/count_before_filter*100)\n",
    "    df[categorical] = df[categorical].astype(str)\n",
    "    return df"
   ]
  },
  {
   "cell_type": "code",
   "execution_count": 5,
   "id": "b61757ec",
   "metadata": {},
   "outputs": [
    {
     "name": "stdout",
     "output_type": "stream",
     "text": [
      "shape: (3066766, 19)\n",
      "duration std before filtering outliers 42.594351241920904\n",
      "% left after filtering by time 98.1220282212598\n"
     ]
    }
   ],
   "source": [
    "df_train = read_dataframe('https://d37ci6vzurychx.cloudfront.net/trip-data/yellow_tripdata_2023-01.parquet')"
   ]
  },
  {
   "cell_type": "code",
   "execution_count": 6,
   "id": "a82d2e0e",
   "metadata": {},
   "outputs": [],
   "source": [
    "Q1: 19\n",
    "Q2: 42.59\n",
    "Q3: 98"
   ]
  },
  {
   "cell_type": "code",
   "execution_count": 7,
   "id": "905c0db6",
   "metadata": {},
   "outputs": [
    {
     "name": "stdout",
     "output_type": "stream",
     "text": [
      "shape: (2913955, 19)\n",
      "duration std before filtering outliers 42.84210176105097\n",
      "% left after filtering by time 98.00944077722545\n"
     ]
    }
   ],
   "source": [
    "df_val = read_dataframe('https://d37ci6vzurychx.cloudfront.net/trip-data/yellow_tripdata_2023-02.parquet')"
   ]
  },
  {
   "cell_type": "code",
   "execution_count": 8,
   "id": "b9cfe6bb",
   "metadata": {},
   "outputs": [
    {
     "name": "stdout",
     "output_type": "stream",
     "text": [
      "Matrix size: (3009173, 515)\n"
     ]
    }
   ],
   "source": [
    "dv = DictVectorizer()\n",
    "train_dicts = df_train[categorical + numerical].to_dict(orient='records')\n",
    "X_train = dv.fit_transform(train_dicts)\n",
    "print('Matrix size:', X_train.shape)\n",
    "\n",
    "val_dicts = df_val[categorical + numerical].to_dict(orient='records')\n",
    "X_val = dv.transform(val_dicts)\n"
   ]
  },
  {
   "cell_type": "markdown",
   "id": "64d3391a",
   "metadata": {},
   "source": [
    "Q4: 515"
   ]
  },
  {
   "cell_type": "code",
   "execution_count": 9,
   "id": "251473b3",
   "metadata": {},
   "outputs": [],
   "source": [
    "target = 'duration'\n",
    "y_train = df_train[target].values\n",
    "y_val = df_val[target].values"
   ]
  },
  {
   "cell_type": "code",
   "execution_count": 10,
   "id": "9dfd5261",
   "metadata": {},
   "outputs": [
    {
     "data": {
      "text/plain": [
       "LinearRegression()"
      ]
     },
     "execution_count": 10,
     "metadata": {},
     "output_type": "execute_result"
    }
   ],
   "source": [
    "lr = LinearRegression()\n",
    "lr.fit(X_train, y_train)"
   ]
  },
  {
   "cell_type": "code",
   "execution_count": 11,
   "id": "5162e4d5",
   "metadata": {},
   "outputs": [
    {
     "name": "stdout",
     "output_type": "stream",
     "text": [
      "7.649261027826866\n"
     ]
    }
   ],
   "source": [
    "RMSE = mean_squared_error(y_train, lr.predict(X_train), squared=False)\n",
    "print(RMSE)"
   ]
  },
  {
   "cell_type": "code",
   "execution_count": 12,
   "id": "5e5f6194",
   "metadata": {},
   "outputs": [],
   "source": [
    "Q5: 7.64"
   ]
  },
  {
   "cell_type": "code",
   "execution_count": 13,
   "id": "d1d143c8",
   "metadata": {},
   "outputs": [],
   "source": [
    "y_pred = lr.predict(X_val)"
   ]
  },
  {
   "cell_type": "code",
   "execution_count": 14,
   "id": "e0e5d167",
   "metadata": {},
   "outputs": [],
   "source": [
    "RMSE = mean_squared_error(y_val, y_pred, squared=False)"
   ]
  },
  {
   "cell_type": "code",
   "execution_count": 15,
   "id": "490c11df",
   "metadata": {},
   "outputs": [
    {
     "data": {
      "text/plain": [
       "7.811832641626525"
      ]
     },
     "execution_count": 15,
     "metadata": {},
     "output_type": "execute_result"
    }
   ],
   "source": [
    "RMSE"
   ]
  },
  {
   "cell_type": "markdown",
   "id": "9c6d0a7e",
   "metadata": {},
   "source": [
    "Q6: 7.81"
   ]
  }
 ],
 "metadata": {
  "kernelspec": {
   "display_name": "Python 3 (ipykernel)",
   "language": "python",
   "name": "python3"
  },
  "language_info": {
   "codemirror_mode": {
    "name": "ipython",
    "version": 3
   },
   "file_extension": ".py",
   "mimetype": "text/x-python",
   "name": "python",
   "nbconvert_exporter": "python",
   "pygments_lexer": "ipython3",
   "version": "3.9.12"
  }
 },
 "nbformat": 4,
 "nbformat_minor": 5
}
